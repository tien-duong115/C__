{
 "cells": [
  {
   "cell_type": "code",
   "execution_count": 22,
   "metadata": {},
   "outputs": [],
   "source": [
    "import json\n",
    "import csv\n",
    "import pandas as pd\n",
    "import re"
   ]
  },
  {
   "cell_type": "code",
   "execution_count": 34,
   "metadata": {},
   "outputs": [],
   "source": [
    "with open ('majors-list.csv', encoding='utf-8') as file:\n",
    "    reader = csv.reader(file)\n",
    "    next(reader)\n",
    "    data = {\"career\": []}\n",
    "    for row in reader: \n",
    "        # data['major_category'].append({row[2]:row[1]})\n",
    "        if re.search(\"^Agriculture\", row[2]):\n",
    "            data['career'].append({ \"tags\": \"argiculture\", \"major_cateory\":row[2],\n",
    "                                   \"major\":row[1]})\n",
    "        if re.search(\"^Arts\", row[2]):\n",
    "            data['career'].append({\"tags\": \"arts\", \"major_category\":row[2],\n",
    "                                  \"major\":row[1]})\n",
    "        if re.search(\"^Biology\", row[2]):\n",
    "            data['career'].append({\"tags\": \"biology\", \"major_category\":row[2],\n",
    "                            \"major\":row[1]})\n",
    "        if re.search(\"^Business\", row[2]):\n",
    "            data['career'].append({\"tags\": \"business\", \"major_category\":row[2],\n",
    "                                  \"major\":row[1]})\n",
    "        if re.search(\"^Communication\", row[2]):\n",
    "            data['career'].append({\"tags\": \"communication_journalism\", \"major_category\":row[2],\n",
    "                            \"major\":row[1]})\n",
    "        if re.search(\"^Computer\", row[2]):\n",
    "            data['career'].append({\"tags\": \"computer_mathmematics\", \"major_category\":row[2],\n",
    "                                  \"major\":row[1]})            \n",
    "        if re.search(\"^Education\", row[2]):\n",
    "            data['career'].append({\"tags\": \"education\", \"major_category\":row[2],\n",
    "                                  \"major\":row[1]})   \n",
    "        if re.search(\"^Engineering\", row[2]):\n",
    "            data['career'].append({\"tags\": \"engineering\", \"major_category\":row[2],\n",
    "                                  \"major\":row[1]})     \n",
    "        if re.search(\"^Health\", row[2]):\n",
    "            data['career'].append({\"tags\": \"health\", \"major_category\":row[2],\n",
    "                                  \"major\":row[1]})\n",
    "        if re.search(\"^Humanities\", row[2]):\n",
    "            data['career'].append({\"tags\": \"humanitites_liberal_arts\", \"major_category\":row[2],\n",
    "                                  \"major\":row[1]})                  \n",
    "        if re.search(\"^Industrial\", row[2]):\n",
    "            data['career'].append({\"tags\": \"industrial_arts_consumer_services\", \"major_category\":row[2],\n",
    "                                  \"major\":row[1]})                           \n",
    "        if re.search(\"^Interdisciplinary\", row[2]):\n",
    "            data['career'].append({\"tags\": \"interdisciplinary\", \"major_category\":row[2],\n",
    "                                  \"major\":row[1]})               \n",
    "        if re.search(\"^Law\", row[2]):\n",
    "            data['career'].append({\"tags\": \"law\", \"major_category\":row[2],\n",
    "                                  \"major\":row[1]})               \n",
    "        if re.search(\"^nan\", row[2]):\n",
    "            data['career'].append({\"tags\": \"undeclare\", \"major_category\":row[2],\n",
    "                                  \"major\":row[1]})\n",
    "        if re.search(\"^Physical \", row[2]):\n",
    "            data['career'].append({\"tags\": \"physical_science\", \"major_category\":row[2],\n",
    "                                  \"major\":row[1]})               \n",
    "        if re.search(\"^Psychology\", row[2]):\n",
    "            data['career'].append({\"tags\": \"psychology\", \"major_category\":row[2],\n",
    "                                  \"major\":row[1]})               \n",
    "        if re.search(\"^Social\", row[2]):\n",
    "            data['career'].append({\"tags\": \"social_science\", \"major_category\":row[2],\n",
    "                                  \"major\":row[1]})               \n",
    "\n",
    "                        \n",
    "                \n",
    "with open ('test.json', 'w') as f:\n",
    "    json.dump(data, f, indent=4)\n"
   ]
  },
  {
   "cell_type": "code",
   "execution_count": 24,
   "metadata": {},
   "outputs": [
    {
     "data": {
      "text/plain": [
       "array(['Agriculture & Natural Resources', 'Arts',\n",
       "       'Biology & Life Science', 'Business',\n",
       "       'Communications & Journalism', 'Computers & Mathematics',\n",
       "       'Education', 'Engineering', 'Health', 'Humanities & Liberal Arts',\n",
       "       'Industrial Arts & Consumer Services', 'Interdisciplinary',\n",
       "       'Law & Public Policy', nan, 'Physical Sciences',\n",
       "       'Psychology & Social Work', 'Social Science'], dtype=object)"
      ]
     },
     "execution_count": 24,
     "metadata": {},
     "output_type": "execute_result"
    }
   ],
   "source": [
    "pd.read_csv('majors-list.csv').Major_Category.unique()"
   ]
  },
  {
   "cell_type": "code",
   "execution_count": null,
   "metadata": {},
   "outputs": [],
   "source": []
  }
 ],
 "metadata": {
  "interpreter": {
   "hash": "50ed8d005a110c75991520735a4f7ba670c15f8015a4d71cf51420593eaa4c79"
  },
  "kernelspec": {
   "display_name": "Python 3.9.7 ('cpp')",
   "language": "python",
   "name": "python3"
  },
  "language_info": {
   "codemirror_mode": {
    "name": "ipython",
    "version": 3
   },
   "file_extension": ".py",
   "mimetype": "text/x-python",
   "name": "python",
   "nbconvert_exporter": "python",
   "pygments_lexer": "ipython3",
   "version": "3.8.12"
  },
  "orig_nbformat": 4
 },
 "nbformat": 4,
 "nbformat_minor": 2
}
