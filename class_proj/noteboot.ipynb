{
 "cells": [
  {
   "cell_type": "code",
   "execution_count": 22,
   "metadata": {},
   "outputs": [],
   "source": [
    "import json\n",
    "import csv\n",
    "import pandas as pd\n",
    "import re"
   ]
  },
  {
   "cell_type": "code",
   "execution_count": 34,
   "metadata": {},
   "outputs": [],
   "source": [
    "with open ('majors-list.csv', encoding='utf-8') as file:\n",
    "    reader = csv.reader(file)\n",
    "    next(reader)\n",
    "    data = {\"career\": []}\n",
    "    for row in reader: \n",
    "        # data['major_category'].append({row[2]:row[1]})\n",
    "        if re.search(\"^Agriculture\", row[2]):\n",
    "            data['career'].append({ \"tags\": \"argiculture\", \"major_cateory\":row[2],\n",
    "                                   \"major\":row[1]})\n",
    "        if re.search(\"^Arts\", row[2]):\n",
    "            data['career'].append({\"tags\": \"arts\", \"major_category\":row[2],\n",
    "                                  \"major\":row[1]})\n",
    "        if re.search(\"^Biology\", row[2]):\n",
    "            data['career'].append({\"tags\": \"biology\", \"major_category\":row[2],\n",
    "                            \"major\":row[1]})\n",
    "        if re.search(\"^Business\", row[2]):\n",
    "            data['career'].append({\"tags\": \"business\", \"major_category\":row[2],\n",
    "                                  \"major\":row[1]})\n",
    "        if re.search(\"^Communication\", row[2]):\n",
    "            data['career'].append({\"tags\": \"communication_journalism\", \"major_category\":row[2],\n",
    "                            \"major\":row[1]})\n",
    "        if re.search(\"^Computer\", row[2]):\n",
    "            data['career'].append({\"tags\": \"computer_mathmematics\", \"major_category\":row[2],\n",
    "                                  \"major\":row[1]})            \n",
    "        if re.search(\"^Education\", row[2]):\n",
    "            data['career'].append({\"tags\": \"education\", \"major_category\":row[2],\n",
    "                                  \"major\":row[1]})   \n",
    "        if re.search(\"^Engineering\", row[2]):\n",
    "            data['career'].append({\"tags\": \"engineering\", \"major_category\":row[2],\n",
    "                                  \"major\":row[1]})     \n",
    "        if re.search(\"^Health\", row[2]):\n",
    "            data['career'].append({\"tags\": \"health\", \"major_category\":row[2],\n",
    "                                  \"major\":row[1]})\n",
    "        if re.search(\"^Humanities\", row[2]):\n",
    "            data['career'].append({\"tags\": \"humanitites_liberal_arts\", \"major_category\":row[2],\n",
    "                                  \"major\":row[1]})                  \n",
    "        if re.search(\"^Industrial\", row[2]):\n",
    "            data['career'].append({\"tags\": \"industrial_arts_consumer_services\", \"major_category\":row[2],\n",
    "                                  \"major\":row[1]})                           \n",
    "        if re.search(\"^Interdisciplinary\", row[2]):\n",
    "            data['career'].append({\"tags\": \"interdisciplinary\", \"major_category\":row[2],\n",
    "                                  \"major\":row[1]})               \n",
    "        if re.search(\"^Law\", row[2]):\n",
    "            data['career'].append({\"tags\": \"law\", \"major_category\":row[2],\n",
    "                                  \"major\":row[1]})               \n",
    "        if re.search(\"^nan\", row[2]):\n",
    "            data['career'].append({\"tags\": \"undeclare\", \"major_category\":row[2],\n",
    "                                  \"major\":row[1]})\n",
    "        if re.search(\"^Physical \", row[2]):\n",
    "            data['career'].append({\"tags\": \"physical_science\", \"major_category\":row[2],\n",
    "                                  \"major\":row[1]})               \n",
    "        if re.search(\"^Psychology\", row[2]):\n",
    "            data['career'].append({\"tags\": \"psychology\", \"major_category\":row[2],\n",
    "                                  \"major\":row[1]})               \n",
    "        if re.search(\"^Social\", row[2]):\n",
    "            data['career'].append({\"tags\": \"social_science\", \"major_category\":row[2],\n",
    "                                  \"major\":row[1]})               \n",
    "\n",
    "                        \n",
    "                \n",
    "with open ('test.json', 'w') as f:\n",
    "    json.dump(data, f, indent=4)\n"
   ]
  },
  {
   "cell_type": "code",
   "execution_count": 1,
   "metadata": {},
   "outputs": [
    {
     "ename": "NameError",
     "evalue": "name 'pd' is not defined",
     "output_type": "error",
     "traceback": [
      "\u001b[0;31m---------------------------------------------------------------------------\u001b[0m",
      "\u001b[0;31mNameError\u001b[0m                                 Traceback (most recent call last)",
      "\u001b[1;32m/mnt/c/Users/tienl/class_proj/noteboot.ipynb Cell 3'\u001b[0m in \u001b[0;36m<module>\u001b[0;34m\u001b[0m\n\u001b[0;32m----> <a href='vscode-notebook-cell://wsl%2Bubuntu-20.04/mnt/c/Users/tienl/class_proj/noteboot.ipynb#ch0000002vscode-remote?line=0'>1</a>\u001b[0m pd\u001b[39m.\u001b[39mread_csv(\u001b[39m'\u001b[39m\u001b[39mmajors-list.csv\u001b[39m\u001b[39m'\u001b[39m)\u001b[39m.\u001b[39mMajor_Category\u001b[39m.\u001b[39munique()\n",
      "\u001b[0;31mNameError\u001b[0m: name 'pd' is not defined"
     ]
    }
   ],
   "source": [
    "pd.read_csv('majors-list.csv').Major_Category.unique()"
   ]
  },
  {
   "cell_type": "code",
   "execution_count": 11,
   "metadata": {},
   "outputs": [],
   "source": [
    "import pandas as pd\n",
    "import numpy as np\n",
    "import matplotlib.pyplot as plt\n"
   ]
  },
  {
   "cell_type": "code",
   "execution_count": 24,
   "metadata": {},
   "outputs": [
    {
     "data": {
      "text/plain": [
       "6.947368421052632"
      ]
     },
     "execution_count": 24,
     "metadata": {},
     "output_type": "execute_result"
    }
   ],
   "source": [
    "arr1 = [7,6,8,9,9,10,9,7,7,6,6,7,6,1,8,6,6,8,6]\n",
    "arr1_avg = sum(arr1) / len(arr1)\n",
    "arr1_avg"
   ]
  },
  {
   "cell_type": "code",
   "execution_count": 23,
   "metadata": {},
   "outputs": [
    {
     "data": {
      "text/plain": [
       "7.157894736842105"
      ]
     },
     "execution_count": 23,
     "metadata": {},
     "output_type": "execute_result"
    }
   ],
   "source": [
    "arr2 = [6,7,8,8,6,5,5,11,9,9,8,5,6,4,12,6,8,4,9]\n",
    "arr2_avg = sum(arr2) / len(arr2)\n",
    "arr2_avg"
   ]
  },
  {
   "cell_type": "code",
   "execution_count": null,
   "metadata": {},
   "outputs": [],
   "source": []
  },
  {
   "cell_type": "code",
   "execution_count": 54,
   "metadata": {},
   "outputs": [
    {
     "data": {
      "image/png": "[encoded data removed]",
      "text/plain": [
       "<Figure size 432x288 with 1 Axes>"
      ]
     },
     "metadata": {
      "needs_background": "light"
     },
     "output_type": "display_data"
    }
   ],
   "source": [
    "bar_width = 0.35\n",
    "p1 = plt.bar(['Memory 1', 'Memory 2'], [arr1_avg, arr2_avg], bar_width,color=['r', 'b'], label=['Memory 1', 'Memory 2'] )\n",
    "\n",
    "plt.xlabel('Average Memory 1 vs. Average Memory 2')\n",
    "plt.ylabel('Average Scores of Memory 1 vs. Memory 2')\n",
    "plt.show()\n"
   ]
  },
  {
   "cell_type": "code",
   "execution_count": 66,
   "metadata": {},
   "outputs": [
    {
     "data": {
      "text/plain": [
       "Text(0, 0.5, 'Memory 2')"
      ]
     },
     "execution_count": 66,
     "metadata": {},
     "output_type": "execute_result"
    },
    {
     "data": {
      "image/png": "[encoded data removed]",
      "text/plain": [
       "<Figure size 432x288 with 1 Axes>"
      ]
     },
     "metadata": {
      "needs_background": "light"
     },
     "output_type": "display_data"
    }
   ],
   "source": [
    "mem_1 = [7,6,8,9,9,10,9,7,7,6,6,7,6,1,8,6,6,8,6]\n",
    "mem_2 = [6,7,8,8,6,5,5,11,9,9,8,5,6,4,12,6,8,4,9]\n",
    "xtick = np.arange(0,len(mem_1), 1)\n",
    "ytick = np.arange(0,len(mem_2), 1)\n",
    "plt.scatter(mem_1, mem_2)\n",
    "plt.xticks(xtick)\n",
    "plt.yticks(ytick)\n",
    "plt.xlabel('Memory 1')\n",
    "plt.ylabel('Memory 2')\n",
    "# n = len(mem_1)\n",
    "# fig, ax = plt.subplots()\n",
    "# ax.scatter(mem_1, mem_2)\n",
    "# for i, txt in enumerate(mem_1):\n",
    "#     ax.annotate(txt, (mem_1[i], mem_2[i]))\n",
    "    \n"
   ]
  },
  {
   "cell_type": "code",
   "execution_count": null,
   "metadata": {},
   "outputs": [],
   "source": []
  }
 ],
 "metadata": {
  "interpreter": {
   "hash": "50ed8d005a110c75991520735a4f7ba670c15f8015a4d71cf51420593eaa4c79"
  },
  "kernelspec": {
   "display_name": "Python 3.9.7 ('cpp')",
   "language": "python",
   "name": "python3"
  },
  "language_info": {
   "codemirror_mode": {
    "name": "ipython",
    "version": 3
   },
   "file_extension": ".py",
   "mimetype": "text/x-python",
   "name": "python",
   "nbconvert_exporter": "python",
   "pygments_lexer": "ipython3",
   "version": "3.8.12"
  },
  "orig_nbformat": 4
 },
 "nbformat": 4,
 "nbformat_minor": 2
}
