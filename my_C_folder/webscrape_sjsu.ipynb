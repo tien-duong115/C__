{
 "cells": [
  {
   "cell_type": "code",
   "execution_count": null,
   "metadata": {},
   "outputs": [],
   "source": [
    "import pandas as pd\n",
    "import requests\n",
    "from bs4 import BeautifulSoup\n",
    "import re\n",
    "\n",
    "url = \"https://catalog.sjsu.edu/preview_program.php?catoid=10&poid=2880&returnto=741\"\n",
    "data = requests.get(url).content\n",
    "soup = BeautifulSoup(data, \"html.parser\")\n",
    "job_elements = soup.find_all(\"td\", class_=\"block_content_outer\")\n",
    "    \n",
    "with open('my_data.txt','w') as file:\n",
    "    for job_element in job_elements:\n",
    "        file.write(job_element.text.replace('\\n','-'))\n",
    "        \n",
    "with open('my_data.txt','rt') as file:\n",
    "    data = file.read()\n",
    "    print(re.sub('\\-+','\\n\\n', data))"
   ]
  }
 ],
 "metadata": {
  "language_info": {
   "name": "python"
  },
  "orig_nbformat": 4
 },
 "nbformat": 4,
 "nbformat_minor": 2
}
