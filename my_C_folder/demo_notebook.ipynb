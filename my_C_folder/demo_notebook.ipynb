{
 "cells": [
  {
   "cell_type": "code",
   "execution_count": 3,
   "metadata": {},
   "outputs": [
    {
     "name": "stderr",
     "output_type": "stream",
     "text": [
      "In file included from input_line_5:1:\n",
      "In file included from /root/miniconda3/envs/cpp/include/xeus/xinterpreter.hpp:17:\n",
      "In file included from /root/miniconda3/envs/cpp/include/xeus/xcomm.hpp:19:\n",
      "In file included from /root/miniconda3/envs/cpp/include/nlohmann/json.hpp:42:\n",
      "In file included from /root/miniconda3/envs/cpp/bin/../lib/gcc/x86_64-conda-linux-gnu/9.3.0/../../../../x86_64-conda-linux-gnu/include/c++/9.3.0/iterator:64:\n",
      "\u001b[1m/root/miniconda3/envs/cpp/bin/../lib/gcc/x86_64-conda-linux-gnu/9.3.0/../../../../x86_64-conda-linux-gnu/include/c++/9.3.0/ostream:568:8: \u001b[0m\u001b[0;1;31merror: \u001b[0m\u001b[1mno member named 'setstate' in 'std::basic_ostream<char>'\u001b[0m\n",
      "        __out.setstate(ios_base::badbit);\n",
      "\u001b[0;1;32m        ~~~~~ ^\n",
      "\u001b[0m\u001b[1minput_line_12:7:30: \u001b[0m\u001b[0;1;30mnote: \u001b[0min instantiation of function template specialization 'std::operator<<<std::char_traits<char> >' requested here\u001b[0m\n",
      "    std::cout <<  animals[i] << \"\\n\";\n",
      "\u001b[0;1;32m                             ^\n",
      "\u001b[0m"
     ]
    },
    {
     "ename": "Interpreter Error",
     "evalue": "",
     "output_type": "error",
     "traceback": [
      "Interpreter Error: "
     ]
    }
   ],
   "source": [
    "#include <iostream>\n"
   ]
  },
  {
   "cell_type": "code",
   "execution_count": 61,
   "metadata": {},
   "outputs": [],
   "source": [
    "repo = ['mobile', 'mouse', 'moneypot', 'monitor', 'mousepad']\n",
    "customerQuery = ['mouse']"
   ]
  },
  {
   "cell_type": "code",
   "execution_count": 62,
   "metadata": {},
   "outputs": [],
   "source": [
    "\n",
    "def searchSuggestions(repository, customerQuery):\n",
    "    result = []\n",
    "    query_size = len(customerQuery[0])\n",
    "    \n",
    "    for i in range(len(repository)):\n",
    "        if customerQuery[0][0:query_size] in repository[i][0:query_size]:\n",
    "            result.append(repository[i].lower())\n",
    "    result.sort()\n",
    "    return result[0:3]"
   ]
  },
  {
   "cell_type": "code",
   "execution_count": 63,
   "metadata": {},
   "outputs": [
    {
     "data": {
      "text/plain": [
       "['mouse', 'mousepad']"
      ]
     },
     "execution_count": 63,
     "metadata": {},
     "output_type": "execute_result"
    }
   ],
   "source": [
    "searchSuggestions(repo,customerQuery)"
   ]
  },
  {
   "cell_type": "code",
   "execution_count": null,
   "metadata": {},
   "outputs": [],
   "source": [
    "def searchSuggestions(repository, customerQuery):\n",
    "    result = []\n",
    "    query_size = len(customerQuery[0])\n",
    "    if query_size == 2:\n",
    "        for i in range(len(repository)):\n",
    "            if customerQuery[0][0:query_size] in repository[i][0:query_size]:\n",
    "                result.append(repository[i])\n",
    "        result.sort()\n",
    "        return result[0:3]\n",
    "    if query_size == 3:\n",
    "        for i in range(len(repository)):\n",
    "            if customerQuery[0][0:query_size] in repository[i][0:query_size]:\n",
    "                result.append(repository[i])\n",
    "        result.sort()\n",
    "        return result[0:3]\n",
    "    if query_size > 3:\n",
    "        for i in range(len(repository)):\n",
    "            if customerQuery[0][0:query_size] in repository[i][0:query_size]:\n",
    "                result.append(repository[i])\n",
    "        result.sort()\n",
    "        return result[0:3]"
   ]
  },
  {
   "cell_type": "code",
   "execution_count": 71,
   "metadata": {},
   "outputs": [
    {
     "data": {
      "text/plain": [
       "['a', 'b', 'd']"
      ]
     },
     "execution_count": 71,
     "metadata": {},
     "output_type": "execute_result"
    }
   ],
   "source": [
    "mstring = 'aaabccddd'\n",
    "\n",
    "    # Write your code here\n",
    "storage = {}\n",
    "result = []\n",
    "for i in range(len(mstring)):\n",
    "    value = mstring[i]\n",
    "    \n",
    "    if value not in storage:\n",
    "        storage[value] = 0\n",
    "    storage[value] +=1\n",
    "\n",
    "for k,v in storage.items():\n",
    "    if v % 2 != 0:\n",
    "        result.append(k)\n",
    "result"
   ]
  },
  {
   "cell_type": "code",
   "execution_count": 114,
   "metadata": {},
   "outputs": [
    {
     "name": "stdout",
     "output_type": "stream",
     "text": [
      "1 3\n"
     ]
    }
   ],
   "source": [
    "array = [1,4,5,3,2]\n",
    "m = 5\n",
    "def icecreamParlor(m,array):\n",
    "    \n",
    "    left = 0 \n",
    "    right = len(array) -1\n",
    "    counter = 0\n",
    "    while (counter < len(array)):\n",
    "        current_sum = array[left] + array[right]\n",
    "\n",
    "        counter +=1\n",
    "        left +=1\n",
    "        retu\n",
    "        "
   ]
  },
  {
   "cell_type": "code",
   "execution_count": 5,
   "metadata": {},
   "outputs": [
    {
     "name": "stdout",
     "output_type": "stream",
     "text": [
      "G\n"
     ]
    }
   ],
   "source": [
    "a = \"SOS\"\n",
    "inputresult = \"SOSSOSSOSG\"\n",
    "\n",
    "for i in range(len(inputresult)):\n",
    "    if (inputresult[i] != a[i%3]):\n",
    "        print(inputresult[i])\n",
    "    "
   ]
  },
  {
   "cell_type": "code",
   "execution_count": null,
   "metadata": {},
   "outputs": [],
   "source": []
  }
 ],
 "metadata": {
  "interpreter": {
   "hash": "767d51c1340bd893661ea55ea3124f6de3c7a262a8b4abca0554b478b1e2ff90"
  },
  "kernelspec": {
   "display_name": "C++17",
   "language": "C++17",
   "name": "python397jvsc74a57bd050ed8d005a110c75991520735a4f7ba670c15f8015a4d71cf51420593eaa4c79"
  },
  "language_info": {
   "codemirror_mode": "text/x-c++src",
   "file_extension": ".cpp",
   "mimetype": "text/x-c++src",
   "name": "C++17",
   "version": "11"
  }
 },
 "nbformat": 4,
 "nbformat_minor": 2
}
