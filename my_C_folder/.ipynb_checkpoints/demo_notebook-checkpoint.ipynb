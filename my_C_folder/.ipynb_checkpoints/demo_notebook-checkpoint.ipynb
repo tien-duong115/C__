{
 "cells": [
  {
   "cell_type": "code",
   "execution_count": 2,
   "metadata": {},
   "outputs": [
    {
     "name": "stderr",
     "output_type": "stream",
     "text": [
      "\u001b[1minput_line_8:3:1: \u001b[0m\u001b[0;1;31merror: \u001b[0m\u001b[1muse of undeclared identifier 'cout'; did you mean 'count'?\u001b[0m\n",
      "cout << \"hellow world\" << endl ;\n",
      "\u001b[0;1;32m^~~~\n",
      "\u001b[0m\u001b[0;32mcount\n",
      "\u001b[0m\u001b[1m/root/miniconda3/envs/cpp/bin/../lib/gcc/x86_64-conda-linux-gnu/9.3.0/../../../../x86_64-conda-linux-gnu/include/c++/9.3.0/bits/stl_algo.h:4107:5: \u001b[0m\u001b[0;1;30mnote: \u001b[0m'count' declared here\u001b[0m\n",
      "    count(_InputIterator __first, _InputIterator __last, const _Tp& __value)\n",
      "\u001b[0;1;32m    ^\n",
      "\u001b[0m\u001b[1minput_line_8:3:1: \u001b[0m\u001b[0;1;31merror: \u001b[0m\u001b[1mreference to overloaded function could not be resolved; did you mean to call it?\u001b[0m\n",
      "cout << \"hellow world\" << endl ;\n",
      "\u001b[0;1;32m^~~~\n",
      "\u001b[0m\u001b[1m/root/miniconda3/envs/cpp/bin/../lib/gcc/x86_64-conda-linux-gnu/9.3.0/../../../../x86_64-conda-linux-gnu/include/c++/9.3.0/bits/stl_algo.h:4107:5: \u001b[0m\u001b[0;1;30mnote: \u001b[0mpossible target for call\u001b[0m\n",
      "    count(_InputIterator __first, _InputIterator __last, const _Tp& __value)\n",
      "\u001b[0;1;32m    ^\n",
      "\u001b[0m"
     ]
    },
    {
     "ename": "Interpreter Error",
     "evalue": "",
     "output_type": "error",
     "traceback": [
      "Interpreter Error: "
     ]
    }
   ],
   "source": [
    "using namespace std;\n",
    "\n",
    "cout << \"hellow world\" << endl ;"
   ]
  },
  {
   "cell_type": "code",
   "execution_count": 61,
   "metadata": {},
   "outputs": [],
   "source": [
    "repo = ['mobile', 'mouse', 'moneypot', 'monitor', 'mousepad']\n",
    "customerQuery = ['mouse']"
   ]
  },
  {
   "cell_type": "code",
   "execution_count": 62,
   "metadata": {},
   "outputs": [],
   "source": [
    "\n",
    "def searchSuggestions(repository, customerQuery):\n",
    "    result = []\n",
    "    query_size = len(customerQuery[0])\n",
    "    \n",
    "    for i in range(len(repository)):\n",
    "        if customerQuery[0][0:query_size] in repository[i][0:query_size]:\n",
    "            result.append(repository[i].lower())\n",
    "    result.sort()\n",
    "    return result[0:3]"
   ]
  },
  {
   "cell_type": "code",
   "execution_count": 63,
   "metadata": {},
   "outputs": [
    {
     "data": {
      "text/plain": [
       "['mouse', 'mousepad']"
      ]
     },
     "execution_count": 63,
     "metadata": {},
     "output_type": "execute_result"
    }
   ],
   "source": [
    "searchSuggestions(repo,customerQuery)"
   ]
  },
  {
   "cell_type": "code",
   "execution_count": null,
   "metadata": {},
   "outputs": [],
   "source": [
    "def searchSuggestions(repository, customerQuery):\n",
    "    result = []\n",
    "    query_size = len(customerQuery[0])\n",
    "    if query_size == 2:\n",
    "        for i in range(len(repository)):\n",
    "            if customerQuery[0][0:query_size] in repository[i][0:query_size]:\n",
    "                result.append(repository[i])\n",
    "        result.sort()\n",
    "        return result[0:3]\n",
    "    if query_size == 3:\n",
    "        for i in range(len(repository)):\n",
    "            if customerQuery[0][0:query_size] in repository[i][0:query_size]:\n",
    "                result.append(repository[i])\n",
    "        result.sort()\n",
    "        return result[0:3]\n",
    "    if query_size > 3:\n",
    "        for i in range(len(repository)):\n",
    "            if customerQuery[0][0:query_size] in repository[i][0:query_size]:\n",
    "                result.append(repository[i])\n",
    "        result.sort()\n",
    "        return result[0:3]"
   ]
  },
  {
   "cell_type": "code",
   "execution_count": 71,
   "metadata": {},
   "outputs": [
    {
     "data": {
      "text/plain": [
       "['a', 'b', 'd']"
      ]
     },
     "execution_count": 71,
     "metadata": {},
     "output_type": "execute_result"
    }
   ],
   "source": [
    "mstring = 'aaabccddd'\n",
    "\n",
    "    # Write your code here\n",
    "storage = {}\n",
    "result = []\n",
    "for i in range(len(mstring)):\n",
    "    value = mstring[i]\n",
    "    \n",
    "    if value not in storage:\n",
    "        storage[value] = 0\n",
    "    storage[value] +=1\n",
    "\n",
    "for k,v in storage.items():\n",
    "    if v % 2 != 0:\n",
    "        result.append(k)\n",
    "result"
   ]
  },
  {
   "cell_type": "code",
   "execution_count": 114,
   "metadata": {},
   "outputs": [
    {
     "name": "stdout",
     "output_type": "stream",
     "text": [
      "1 3\n"
     ]
    }
   ],
   "source": [
    "array = [1,4,5,3,2]\n",
    "m = 5\n",
    "def icecreamParlor(m,array):\n",
    "    \n",
    "    left = 0 \n",
    "    right = len(array) -1\n",
    "    counter = 0\n",
    "    while (counter < len(array)):\n",
    "        current_sum = array[left] + array[right]\n",
    "\n",
    "        counter +=1\n",
    "        left +=1\n",
    "        retu\n",
    "        "
   ]
  },
  {
   "cell_type": "code",
   "execution_count": 5,
   "metadata": {},
   "outputs": [
    {
     "name": "stdout",
     "output_type": "stream",
     "text": [
      "G\n"
     ]
    }
   ],
   "source": [
    "a = \"SOS\"\n",
    "inputresult = \"SOSSOSSOSG\"\n",
    "\n",
    "for i in range(len(inputresult)):\n",
    "    if (inputresult[i] != a[i%3]):\n",
    "        print(inputresult[i])\n",
    "    "
   ]
  },
  {
   "cell_type": "code",
   "execution_count": null,
   "metadata": {},
   "outputs": [],
   "source": []
  }
 ],
 "metadata": {
  "interpreter": {
   "hash": "767d51c1340bd893661ea55ea3124f6de3c7a262a8b4abca0554b478b1e2ff90"
  },
  "kernelspec": {
   "display_name": "C++11",
   "language": "C++11",
   "name": "xcpp11"
  },
  "language_info": {
   "codemirror_mode": "text/x-c++src",
   "file_extension": ".cpp",
   "mimetype": "text/x-c++src",
   "name": "c++",
   "version": "11"
  }
 },
 "nbformat": 4,
 "nbformat_minor": 2
}
